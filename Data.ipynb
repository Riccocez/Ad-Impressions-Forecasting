{
 "cells": [
  {
   "cell_type": "code",
   "execution_count": 1,
   "metadata": {
    "collapsed": false
   },
   "outputs": [],
   "source": [
    "import os\n",
    "import pandas as pd"
   ]
  },
  {
   "cell_type": "code",
   "execution_count": 6,
   "metadata": {
    "collapsed": true
   },
   "outputs": [],
   "source": [
    "class Data(object):\n",
    "    \n",
    "    def __init__(self, files = [], ):\n",
    "        \"\"\"\n",
    "        * A Data object containing a set of files from a given directory\n",
    "        \"\"\"\n",
    "        \n",
    "        self.files = files\n",
    "        self.tmpFile = ''\n",
    "        self.ts_data = None\n",
    "        \n",
    "    def get_all_files(self, path, extension):\n",
    "        \"\"\"\n",
    "        * Get all files from the path and extension given and\n",
    "        * save them as a set of Dataframes\n",
    "        \"\"\"\n",
    "        \n",
    "        for fileName in os.listdir(path):\n",
    "            \n",
    "            if self.filter_file(fileName, extension):\n",
    "                tmpFile = pd.read_csv(path+fileName)\n",
    "                self.files.append(tmpFile)\n",
    "                \n",
    "        return\n",
    "    \n",
    "    def filter_file(self, fileName, extension):\n",
    "        \"\"\"\n",
    "        * Detects if a fileName corresponds to the extension desired\n",
    "        \"\"\"\n",
    "        \n",
    "        if fileName.endswith(extension):\n",
    "            return True\n",
    "        \n",
    "        else:\n",
    "            return False\n",
    "    \n",
    "    def get_file(self,index):\n",
    "        \"\"\"\n",
    "        * Get the file in \"index\" from the set of Dataframes\n",
    "        \"\"\"\n",
    "        \n",
    "        try:\n",
    "            \n",
    "            tmpFile = self.files[index]\n",
    "            \n",
    "        except IndexError:\n",
    "            print( \"ExceptionError: Index out of range\")\n",
    "   \n",
    "        return tmpFile\n",
    "\n",
    "    def get_all_data(self):\n",
    "        \"\"\"\n",
    "        * Returns all data stored in Data object\n",
    "        \"\"\"\n",
    "        return self.files\n",
    "    \n",
    "    def save_ts_data(self,df):\n",
    "        \"\"\"\n",
    "        * Set all data\n",
    "        \"\"\"\n",
    "        \n",
    "        self.ts_data = df\n",
    "        \n",
    "        return\n",
    "    \n",
    "    def write_to_csvfile(self,pred_df,dates_df,path,fileName):\n",
    "        \"\"\"\n",
    "        * Write the predictions of a dataframe into a csv file\n",
    "        \"\"\"\n",
    "        \n",
    "        if fileName != \"FebPredict\":\n",
    "            pred_imp = pd.DataFrame(pred_df,columns=[\"Pred_Impressions\"])\n",
    "        \n",
    "            if fileName == \"trainPredict\":\n",
    "                dates_df = dates_df.reset_index()\n",
    "                del dates_df['index']\n",
    "        \n",
    "            pred_imp['Date'] = dates_df\n",
    "        \n",
    "            pred_imp.to_csv(path+fileName+\".csv\")\n",
    "        else:\n",
    "            \n",
    "            pred_df[['Date','Pred_Impressions']].to_csv(path+fileName+\".csv\")\n",
    "        \n",
    "        print(fileName+'.csv saved')\n",
    "        \n",
    "        return\n",
    "        \n",
    "        \n",
    "\n",
    "    "
   ]
  },
  {
   "cell_type": "code",
   "execution_count": null,
   "metadata": {
    "collapsed": false
   },
   "outputs": [],
   "source": []
  },
  {
   "cell_type": "code",
   "execution_count": null,
   "metadata": {
    "collapsed": true
   },
   "outputs": [],
   "source": []
  }
 ],
 "metadata": {
  "kernelspec": {
   "display_name": "Python 3",
   "language": "python",
   "name": "python3"
  },
  "language_info": {
   "codemirror_mode": {
    "name": "ipython",
    "version": 3
   },
   "file_extension": ".py",
   "mimetype": "text/x-python",
   "name": "python",
   "nbconvert_exporter": "python",
   "pygments_lexer": "ipython3",
   "version": "3.5.2"
  }
 },
 "nbformat": 4,
 "nbformat_minor": 2
}
